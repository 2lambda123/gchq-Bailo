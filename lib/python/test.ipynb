{
 "cells": [
  {
   "cell_type": "code",
   "execution_count": 4,
   "metadata": {},
   "outputs": [],
   "source": [
    "from bailo import Model, Client, Experiment, Schema, SchemaKind\n",
    "\n",
    "# Instantiating the Bailo client\n",
    "\n",
    "client = Client(\"http://127.0.0.1:8080\") # <- INSERT BAILO URL (if not hosting locally)"
   ]
  },
  {
   "cell_type": "code",
   "execution_count": 5,
   "metadata": {},
   "outputs": [
    {
     "name": "stdout",
     "output_type": "stream",
     "text": [
      "{'id': 'metrics-v5', 'name': 'Metrics v5', 'description': 'Example Description', 'active': True, 'hidden': False, 'kind': 'model', 'jsonSchema': {'$schema': 'http://json-schema.org/draft-07/schema#', 'type': 'object', 'properties': {'overview': {'title': 'Overview', 'description': 'Summary of the model functionality.', 'type': 'object', 'properties': {'modelOverview': {'title': 'What does the model do?', 'description': 'A description of what the model does.', 'type': 'string', 'minLength': 1, 'maxLength': 5000}, 'tags': {'title': 'Descriptive tags for the model.', 'description': 'These tags will be searchable and will help others find this model.', 'type': 'array', 'widget': 'tagSelectorBeta', 'items': {'type': 'string'}, 'uniqueItems': True}}, 'required': [], 'additionalProperties': False}, 'performance': {'title': 'Performance', 'type': 'object', 'properties': {'performanceMetrics': {'title': 'Performance Metrics', 'description': 'List of metrics, values, and the dataset they were evaluated on', 'type': 'array', 'items': {'type': 'object', 'title': '', 'properties': {'dataset': {'title': 'Dataset used', 'type': 'string'}, 'datasetMetrics': {'type': 'array', 'title': 'Dataset Metrics', 'items': {'type': 'object', 'title': '', 'properties': {'name': {'title': 'Metric name', 'description': 'For example: ACCURACY', 'type': 'string'}, 'value': {'title': 'Model performance metric value', 'description': 'For example: 82', 'type': 'number'}}}}}}}}}}, 'required': [], 'additionalProperties': False}, '_id': '65dcc3f1998b9ba92ba1ae0b', 'createdAt': '2024-02-26T17:01:37.900Z', 'updatedAt': '2024-02-26T17:01:37.900Z', '__v': 0}\n"
     ]
    }
   ],
   "source": [
    "json_schema = {\n",
    "    \"$schema\": \"http://json-schema.org/draft-07/schema#\",\n",
    "    \"type\": \"object\",\n",
    "    \"properties\": {\n",
    "        \"overview\": {\n",
    "            \"title\": \"Overview\",\n",
    "            \"description\": \"Summary of the model functionality.\",\n",
    "            \"type\": \"object\",\n",
    "            \"properties\": {\n",
    "                \"modelOverview\": {\n",
    "                    \"title\": \"What does the model do?\",\n",
    "                    \"description\": \"A description of what the model does.\",\n",
    "                    \"type\": \"string\",\n",
    "                    \"minLength\": 1,\n",
    "                    \"maxLength\": 5000,\n",
    "                },\n",
    "                \"tags\": {\n",
    "                    \"title\": \"Descriptive tags for the model.\",\n",
    "                    \"description\": \"These tags will be searchable and will help others find this model.\",\n",
    "                    \"type\": \"array\",\n",
    "                    \"widget\": \"tagSelectorBeta\",\n",
    "                    \"items\": {\"type\": \"string\"},\n",
    "                    \"uniqueItems\": True,\n",
    "                },\n",
    "            },\n",
    "            \"required\": [],\n",
    "            \"additionalProperties\": False,\n",
    "        },\n",
    "        \"performance\": {\n",
    "            \"title\": \"Performance\",\n",
    "            \"type\": \"object\",\n",
    "            \"properties\": {\n",
    "                \"performanceMetrics\": {\n",
    "                    \"title\": \"Performance Metrics\",\n",
    "                    \"description\": \"List of metrics, values, and the dataset they were evaluated on\",\n",
    "                    \"type\": \"array\",\n",
    "                    \"items\": {\n",
    "                        \"type\": \"object\",\n",
    "                        \"title\": \"\",\n",
    "                        \"properties\": {\n",
    "                            \"dataset\": {\n",
    "                            \"title\": \"Dataset used\",\n",
    "                            \"type\": \"string\"\n",
    "                        },\n",
    "                        \"datasetMetrics\": {\n",
    "                            \"type\": \"array\",\n",
    "                            \"title\": \"Dataset Metrics\",\n",
    "                            \"items\": {\n",
    "                            \"type\": \"object\",\n",
    "                            \"title\": \"\",\n",
    "                            \"properties\": {\n",
    "                                \"name\": {\n",
    "                                \"title\": \"Metric name\",\n",
    "                                \"description\": \"For example: ACCURACY\",\n",
    "                                \"type\": \"string\"\n",
    "                                },\n",
    "                                \"value\": {\n",
    "                                \"title\": \"Model performance metric value\",\n",
    "                                \"description\": \"For example: 82\",\n",
    "                                \"type\": \"number\"\n",
    "                                }\n",
    "                             }\n",
    "                        }\n",
    "                  }\n",
    "                }\n",
    "              }\n",
    "            },\n",
    "            },\n",
    "        },\n",
    "\n",
    "    },\n",
    "    \"required\": [],\n",
    "    \"additionalProperties\": False,\n",
    "}\n",
    "\n",
    "schema = Schema.create(\n",
    "    client=client,\n",
    "    schema_id=\"metrics-v5\",\n",
    "    name=\"Metrics v5\",\n",
    "    description=\"Example Description\",\n",
    "    kind=SchemaKind.MODEL,\n",
    "    json_schema=json_schema\n",
    ")"
   ]
  },
  {
   "cell_type": "code",
   "execution_count": 3,
   "metadata": {},
   "outputs": [],
   "source": [
    "model = Model.create(client=client, name=\"ResNet\", description=\"ResNet\", team_id=\"uncategorised\")"
   ]
  },
  {
   "cell_type": "code",
   "execution_count": null,
   "metadata": {},
   "outputs": [],
   "source": []
  }
 ],
 "metadata": {
  "kernelspec": {
   "display_name": "Python 3",
   "language": "python",
   "name": "python3"
  },
  "language_info": {
   "codemirror_mode": {
    "name": "ipython",
    "version": 3
   },
   "file_extension": ".py",
   "mimetype": "text/x-python",
   "name": "python",
   "nbconvert_exporter": "python",
   "pygments_lexer": "ipython3",
   "version": "3.10.12"
  },
  "orig_nbformat": 4
 },
 "nbformat": 4,
 "nbformat_minor": 2
}
