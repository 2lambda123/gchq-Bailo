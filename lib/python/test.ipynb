{
 "cells": [
  {
   "cell_type": "code",
   "execution_count": 2,
   "metadata": {},
   "outputs": [],
   "source": [
    "from bailo import Model, Client, Schema, SchemaKind\n",
    "from io import BytesIO"
   ]
  },
  {
   "cell_type": "code",
   "execution_count": 3,
   "metadata": {},
   "outputs": [],
   "source": [
    "client = Client(\"http://127.0.0.1:8080\")"
   ]
  },
  {
   "cell_type": "code",
   "execution_count": 4,
   "metadata": {},
   "outputs": [],
   "source": [
    "metrics_schema = {\n",
    "    \"$schema\": \"http://json-schema.org/draft-07/schema#\",\n",
    "    \"type\": \"object\",\n",
    "    \"properties\": {\n",
    "        \"overview\": {\n",
    "            \"title\": \"Overview\",\n",
    "            \"description\": \"Summary of the model functionality.\",\n",
    "            \"type\": \"object\",\n",
    "            \"properties\": {\n",
    "                \"modelOverview\": {\n",
    "                    \"title\": \"What does the model do?\",\n",
    "                    \"description\": \"A description of what the model does.\",\n",
    "                    \"type\": \"string\",\n",
    "                    \"minLength\": 1,\n",
    "                    \"maxLength\": 5000,\n",
    "                },\n",
    "                \"tags\": {\n",
    "                    \"title\": \"Descriptive tags for the model.\",\n",
    "                    \"description\": \"These tags will be searchable and will help others find this model.\",\n",
    "                    \"type\": \"array\",\n",
    "                    \"widget\": \"tagSelectorBeta\",\n",
    "                    \"items\": {\"type\": \"string\"},\n",
    "                    \"uniqueItems\": True,\n",
    "                },\n",
    "            },\n",
    "            \"required\": [],\n",
    "            \"additionalProperties\": False,\n",
    "        },\n",
    "        \"performance\": {\n",
    "            \"title\": \"Performance\",\n",
    "            \"description\": \"Performance metrics and parameters\",\n",
    "            \"type\": \"object\",\n",
    "            \"properties\": {\n",
    "                \"performanceOverview\": {\n",
    "                    \"title\": \"How well does the model perform?\",\n",
    "                    \"description\": \"A description of model performance\",\n",
    "                    \"type\": \"string\",\n",
    "                    \"minLength\": 1,\n",
    "                    \"maxLength\": 5000,\n",
    "                },\n",
    "                \"metricsParameters\": {\n",
    "                    \"title\": \"Metrics & Parameters\",\n",
    "                    \"description\": \"Model metrics & parameters\",\n",
    "                    \"type\": \"array\",\n",
    "                    \"items\": {\"type\": \"object\"},\n",
    "                },\n",
    "            },\n",
    "            \"required\": [],\n",
    "            \"additionalProperties\": True\n",
    "        },\n",
    "    },\n",
    "    \"required\": [],\n",
    "    \"additionalProperties\": False,\n",
    "}"
   ]
  },
  {
   "cell_type": "code",
   "execution_count": 5,
   "metadata": {},
   "outputs": [
    {
     "name": "stdout",
     "output_type": "stream",
     "text": [
      "{'id': 'performance-schema4', 'name': 'Performance Schema 4', 'description': 'Performance Schema', 'active': True, 'hidden': False, 'kind': 'model', 'jsonSchema': {'$schema': 'http://json-schema.org/draft-07/schema#', 'type': 'object', 'properties': {'overview': {'title': 'Overview', 'description': 'Summary of the model functionality.', 'type': 'object', 'properties': {'modelOverview': {'title': 'What does the model do?', 'description': 'A description of what the model does.', 'type': 'string', 'minLength': 1, 'maxLength': 5000}, 'tags': {'title': 'Descriptive tags for the model.', 'description': 'These tags will be searchable and will help others find this model.', 'type': 'array', 'widget': 'tagSelectorBeta', 'items': {'type': 'string'}, 'uniqueItems': True}}, 'required': [], 'additionalProperties': False}, 'performance': {'title': 'Performance', 'description': 'Performance metrics and parameters', 'type': 'object', 'properties': {'performanceOverview': {'title': 'How well does the model perform?', 'description': 'A description of model performance', 'type': 'string', 'minLength': 1, 'maxLength': 5000}, 'metricsParameters': {'title': 'Metrics & Parameters', 'description': 'Model metrics & parameters', 'type': 'array', 'items': {'type': 'object'}}}, 'required': [], 'additionalProperties': True}}, 'required': [], 'additionalProperties': False}, '_id': '65d724686504994e7c357be3', 'createdAt': '2024-02-22T10:39:36.174Z', 'updatedAt': '2024-02-22T10:39:36.174Z', '__v': 0}\n"
     ]
    }
   ],
   "source": [
    "schema = Schema.create(client=client, schema_id=\"performance-schema4\", name=\"Performance Schema 4\", description=\"Performance Schema\", kind=SchemaKind.MODEL, json_schema=metrics_schema)"
   ]
  },
  {
   "cell_type": "code",
   "execution_count": 11,
   "metadata": {},
   "outputs": [],
   "source": [
    "class NestedDict(dict):\n",
    "    def __getitem__(self,keytuple):\n",
    "        # if key is not a tuple then access as normal\n",
    "        if not isinstance(keytuple, tuple):\n",
    "            return super(NestedDict,self).__getitem__(keytuple)\n",
    "        d = self\n",
    "        for key in keytuple:\n",
    "            d = d[key]\n",
    "        return d\n",
    "    def __setitem__(self, keytuple, item):\n",
    "        # if key is not a tuple then access as normal\n",
    "        if not isinstance(keytuple, tuple):\n",
    "            return super(NestedDict,self).__setitem__(keytuple, item)\n",
    "        d = self\n",
    "        for index, key in enumerate(keytuple):\n",
    "            if index != len(keytuple) - 1:\n",
    "                try:\n",
    "                    d = d[key]\n",
    "                except:\n",
    "                    d[key] = {}\n",
    "                    d = d[key]\n",
    "\n",
    "            else:\n",
    "                d[key] = item"
   ]
  },
  {
   "cell_type": "code",
   "execution_count": 12,
   "metadata": {},
   "outputs": [],
   "source": [
    "d = {}\n",
    "d = NestedDict(d)"
   ]
  },
  {
   "cell_type": "code",
   "execution_count": 14,
   "metadata": {},
   "outputs": [],
   "source": [
    "loc = 'overview.name.metric1'\n",
    "d[tuple(loc.split('.'))] = \"value\""
   ]
  },
  {
   "cell_type": "code",
   "execution_count": 15,
   "metadata": {},
   "outputs": [
    {
     "data": {
      "text/plain": [
       "{'overview': {'name': {'metric1': 'value'}}}"
      ]
     },
     "execution_count": 15,
     "metadata": {},
     "output_type": "execute_result"
    }
   ],
   "source": [
    "d"
   ]
  },
  {
   "cell_type": "code",
   "execution_count": null,
   "metadata": {},
   "outputs": [],
   "source": []
  }
 ],
 "metadata": {
  "kernelspec": {
   "display_name": "Python 3",
   "language": "python",
   "name": "python3"
  },
  "language_info": {
   "codemirror_mode": {
    "name": "ipython",
    "version": 3
   },
   "file_extension": ".py",
   "mimetype": "text/x-python",
   "name": "python",
   "nbconvert_exporter": "python",
   "pygments_lexer": "ipython3",
   "version": "3.10.12"
  },
  "orig_nbformat": 4
 },
 "nbformat": 4,
 "nbformat_minor": 2
}
