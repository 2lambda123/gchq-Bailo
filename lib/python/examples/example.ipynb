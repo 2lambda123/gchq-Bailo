{
 "cells": [
  {
   "attachments": {},
   "cell_type": "markdown",
   "metadata": {},
   "source": [
    "# Using the Bailo module \n",
    "\n",
    "To connect to the API, you will need to authenticate the Bailo client.  \n",
    "\n",
    "If you have your .env configured (see README), instantiating Bailo is simple:\n",
    "\n",
    "```\n",
    "    bailo = Bailo()\n",
    "```\n",
    "\n",
    "Otherwise, for Cognito authentication:\n",
    "```\n",
    "    bailo = Bailo(\n",
    "        bailo_url=bailo_url,\n",
    "        cognito_client_id=cognito_client_id,\n",
    "        cognito_client_secret=cognito_client_secret,\n",
    "        cognito_username=cognito_username,\n",
    "        cognito_pwd=cognito_pwd,\n",
    "        cognito_region=cognito_region,\n",
    "        cognito_user_pool_id=cognito_user_pool_id,\n",
    "    )\n",
    "```\n",
    "\n",
    "For PKI:\n",
    "```\n",
    "    bailo = Bailo(\n",
    "        bailo_url=bailo_url, \n",
    "        pki_ca=pki_ca, \n",
    "        pki_p12=pki_p12\n",
    "    )\n",
    "```\n",
    "\n",
    "\n",
    "If you don't need a client and just want to make use of model loading/bundling functionality, set client=False\n",
    "\n",
    "```\n",
    "    bailo = Bailo(client=False)\n",
    "```\n"
   ]
  },
  {
   "attachments": {},
   "cell_type": "markdown",
   "metadata": {},
   "source": [
    "### Instantiate Bailo\n",
    "This example sets up the client connection via a .env file"
   ]
  },
  {
   "cell_type": "code",
   "execution_count": null,
   "metadata": {},
   "outputs": [],
   "source": [
    "from bailoclient import Bailo\n",
    "\n",
    "bailo = Bailo()"
   ]
  },
  {
   "attachments": {},
   "cell_type": "markdown",
   "metadata": {},
   "source": [
    "### Upload a model\n",
    "\n",
    "You will need to provide:\n",
    "* Model metadata - see the minimal metadata for information on what fields this should include\n",
    "* Model binary - the actual model\n",
    "* Model code - additional files required alongside your model (model.py, requirements.txt etc)\n",
    "* AWS gateway (optional) - set aws_gateway=False if you haven't already configured a .env file and you are not uploading via an AWS gateway\n",
    "\n",
    "#### View minimum required metadata:"
   ]
  },
  {
   "cell_type": "code",
   "execution_count": null,
   "metadata": {},
   "outputs": [],
   "source": [
    "bailo.minimal_metadata"
   ]
  },
  {
   "attachments": {},
   "cell_type": "markdown",
   "metadata": {},
   "source": [
    "#### Upload the model"
   ]
  },
  {
   "cell_type": "code",
   "execution_count": null,
   "metadata": {},
   "outputs": [],
   "source": [
    "from pkg_resources import resource_filename\n",
    "\n",
    "uploaded_model = bailo.upload_model(\n",
    "    metadata=bailo.minimal_metadata,\n",
    "    binary_file=resource_filename(\"bailoclient\", \"resources/minimal_code.zip\"),\n",
    "    code_file=resource_filename(\"bailoclient\", \"resources/minimal_code.zip\"),\n",
    ")\n",
    "\n",
    "print(f\"Created new model: {uploaded_model}\")\n",
    "\n",
    "# Get the model card for the uploaded model\n",
    "uploaded_model_card = bailo.get_model_card(model_uuid=uploaded_model['uuid'])"
   ]
  },
  {
   "attachments": {},
   "cell_type": "markdown",
   "metadata": {},
   "source": [
    "### View models\n",
    "\n",
    "#### Get all models and output their ids"
   ]
  },
  {
   "cell_type": "code",
   "execution_count": null,
   "metadata": {},
   "outputs": [],
   "source": [
    "models = bailo.get_models()\n",
    "model_uuids = [m.uuid for m in models]\n",
    "\n",
    "print(f\"Available models: {model_uuids}\")"
   ]
  },
  {
   "attachments": {},
   "cell_type": "markdown",
   "metadata": {},
   "source": [
    "#### View a model card\n",
    "\n",
    "Model cards can be pretty-printed with the display() method."
   ]
  },
  {
   "cell_type": "code",
   "execution_count": null,
   "metadata": {},
   "outputs": [],
   "source": [
    "model_card = bailo.get_model_card(model_uuid=uploaded_model['uuid'])\n",
    "\n",
    "model_card.display()"
   ]
  },
  {
   "cell_type": "markdown",
   "metadata": {},
   "source": [
    "You can also output the model card to text"
   ]
  },
  {
   "cell_type": "code",
   "execution_count": null,
   "metadata": {},
   "outputs": [],
   "source": [
    "readable_json = model_card.display(to_screen=False)"
   ]
  },
  {
   "attachments": {},
   "cell_type": "markdown",
   "metadata": {},
   "source": [
    "### Deployments\n",
    "\n",
    "* View deployments\n",
    "* Request a deployment\n",
    "* Download mode code and binary for a deployment\n"
   ]
  },
  {
   "cell_type": "code",
   "execution_count": null,
   "metadata": {},
   "outputs": [],
   "source": [
    "deployment_metadata = bailo.minimal_deployment_metadata\n",
    "deployment_metadata['highLevelDetails']['modelID'] = uploaded_model['uuid']\n",
    "\n",
    "deployment = bailo.request_deployment(deployment_metadata)\n",
    "\n",
    "print(f\"Requested deployment: {deployment}\")"
   ]
  },
  {
   "cell_type": "code",
   "execution_count": null,
   "metadata": {},
   "outputs": [],
   "source": [
    "user_deployments = bailo.get_my_deployments()\n",
    "\n",
    "print(f\"User deployments: {user_deployments}\")"
   ]
  },
  {
   "cell_type": "code",
   "execution_count": null,
   "metadata": {},
   "outputs": [],
   "source": [
    "uploaded_model_latest_version = uploaded_model_card['latestVersion']['metadata']['highLevelDetails']['modelCardVersion']\n",
    "\n",
    "if user_deployments:\n",
    "    deployment = user_deployments[0]\n",
    "\n",
    "    resp = bailo.download_model_files(\n",
    "        deployment_uuid=deployment[\"uuid\"],\n",
    "        model_version=uploaded_model_latest_version,\n",
    "        file_type=\"code\",\n",
    "    )"
   ]
  },
  {
   "attachments": {},
   "cell_type": "markdown",
   "metadata": {},
   "source": [
    "# Example workflow"
   ]
  },
  {
   "attachments": {},
   "cell_type": "markdown",
   "metadata": {},
   "source": [
    "Create a very basic sklearn model trained on the Iris dataset and which returns a numeric label for predictions."
   ]
  },
  {
   "cell_type": "code",
   "execution_count": null,
   "metadata": {},
   "outputs": [],
   "source": [
    "from sklearn import datasets\n",
    "from sklearn.svm import SVC\n",
    "\n",
    "iris = datasets.load_iris()\n",
    "clf = SVC()\n",
    "clf.fit(iris.data, iris.target)"
   ]
  },
  {
   "attachments": {},
   "cell_type": "markdown",
   "metadata": {},
   "source": [
    "Bundle the model files via the Bailo model bundling functionality for sklearn models. \n",
    "\n",
    "This will save the sklearn model as a pkl file and put all the required files into the code and binary zips for uploading to Bailo. "
   ]
  },
  {
   "cell_type": "code",
   "execution_count": null,
   "metadata": {},
   "outputs": [],
   "source": [
    "from bailoclient import Bailo\n",
    "bailo = Bailo()\n",
    "\n",
    "output_path = \"./sklearn_example\"\n",
    "\n",
    "bailo.bundle_model(model=clf, output_path=output_path, model_flavour=\"sklearn\")"
   ]
  },
  {
   "attachments": {},
   "cell_type": "markdown",
   "metadata": {},
   "source": [
    "Upload the sklearn model to Bailo via the client. "
   ]
  },
  {
   "cell_type": "code",
   "execution_count": null,
   "metadata": {},
   "outputs": [],
   "source": [
    "model_binary = f\"{output_path}/binary.zip\" # or replace ith minimal binary\n",
    "model_code = f\"{output_path}/code.zip\" # or replace with minimal code\n",
    "\n",
    "# set some of the metadata for the model\n",
    "model_metadata = bailo.minimal_metadata\n",
    "model_metadata['highLevelDetails']['name'] = \"sklearn model\"\n",
    "model_metadata['highLevelDetails']['modelInASentence'] = \"predicts iris data\"\n",
    "model_metadata['highLevelDetails']['modelOverview'] = \"sklearn model to predict iris data\"\n",
    "\n",
    "# upload the model\n",
    "uploaded_model = bailo.upload_model(\n",
    "    metadata=model_metadata,\n",
    "    binary_file=model_binary,\n",
    "    code_file=model_code,\n",
    ")"
   ]
  },
  {
   "cell_type": "markdown",
   "metadata": {},
   "source": [
    "Check that the model has been uploaded"
   ]
  },
  {
   "cell_type": "code",
   "execution_count": null,
   "metadata": {},
   "outputs": [],
   "source": [
    "# user_models = bailo.get_my_models()\n",
    "user_models = bailo.get_models()\n",
    "\n",
    "for model in user_models:\n",
    "    print(model.uuid)"
   ]
  },
  {
   "attachments": {},
   "cell_type": "markdown",
   "metadata": {},
   "source": [
    "Say we want to update the model with a new version that returns the actual string label rather than the numeric value when we call predict.\n",
    "\n",
    "Because we don't need to change any of the code files, instead of using Bailo bundling functionality, we'll just pickle this model ourselves and zip it"
   ]
  },
  {
   "cell_type": "code",
   "execution_count": null,
   "metadata": {},
   "outputs": [],
   "source": [
    "import pickle\n",
    "import zipfile\n",
    "import os\n",
    "\n",
    "\n",
    "## Update the model to return labels\n",
    "clf.fit(iris.data, iris.target_names[iris.target])\n",
    "\n",
    "## Save the new model binary and zip\n",
    "os.makedirs(f\"{output_path}/new_binary\", exist_ok=True)\n",
    "\n",
    "with open(f\"{output_path}/new_binary/model.pkl\", \"wb\") as f:\n",
    "    pickle.dump(clf, f)\n",
    "\n",
    "zipfile.ZipFile(f\"{output_path}/new_binary/binary.zip\", mode=\"w\").write(f\"{output_path}/new_binary/model.pkl\")"
   ]
  },
  {
   "attachments": {},
   "cell_type": "markdown",
   "metadata": {},
   "source": [
    "We then need to update the model metadata. We can get the metadata from the model card we retrieved when we called bailo.get_my_models()\n",
    "\n",
    "To view the fields on the model card:\n",
    "```\n",
    "    dir(model_card)\n",
    "```\n",
    "\n",
    "To look at the validation schema for the model:\n",
    "```\n",
    "    schema = bailo.get_model_schema(model_uuid)\n",
    "```"
   ]
  },
  {
   "cell_type": "code",
   "execution_count": null,
   "metadata": {},
   "outputs": [],
   "source": [
    "## Get model and required fields for updating (UUID and metadata)\n",
    "model_card = user_models[0]\n",
    "model_uuid = model_card.uuid\n",
    "metadata = model_card.latestVersion.metadata\n",
    "\n",
    "\n",
    "## Update some of the metadata fields for the new model version\n",
    "metadata.highLevelDetails.name = f\"Updated sklearn model\"\n",
    "metadata.highLevelDetails.modelCardVersion = \"v2.0\"\n",
    "\n",
    "## Validate the model card\n",
    "result = model_card.validate()\n",
    "for error in result.errors:\n",
    "    print(f\"{error.field}: {error.description}\")"
   ]
  },
  {
   "cell_type": "markdown",
   "metadata": {},
   "source": [
    "Now we can push our new model version up to Bailo"
   ]
  },
  {
   "cell_type": "code",
   "execution_count": null,
   "metadata": {},
   "outputs": [],
   "source": [
    "update_resp = bailo.update_model(\n",
    "    metadata=metadata,\n",
    "    model_uuid=model_uuid,\n",
    "    binary_file=f\"{output_path}/new_binary/binary.zip\",\n",
    "    code_file=f\"{output_path}/code.zip\", # code is unchanged\n",
    ")"
   ]
  },
  {
   "cell_type": "markdown",
   "metadata": {},
   "source": [
    "Let's have a look at the models now and check that it's been updated"
   ]
  },
  {
   "cell_type": "code",
   "execution_count": null,
   "metadata": {},
   "outputs": [],
   "source": [
    "user_models = bailo.get_models()\n",
    "latest_model = user_models[0]\n",
    "\n",
    "latest_model.latestVersion.metadata.highLevelDetails.name"
   ]
  },
  {
   "attachments": {},
   "cell_type": "markdown",
   "metadata": {},
   "source": [
    "We can now request a deployment of our model - to do this we have to provide metadata relating to our deployment request.\n",
    "\n",
    "We can access the minimal deployment metadata on the Bailo interface."
   ]
  },
  {
   "cell_type": "code",
   "execution_count": null,
   "metadata": {},
   "outputs": [],
   "source": [
    "deployment_metadata = bailo.minimal_deployment_metadata\n",
    "deployment_metadata"
   ]
  },
  {
   "cell_type": "markdown",
   "metadata": {},
   "source": [
    "Let's edit this metadata to request a deployment for our model"
   ]
  },
  {
   "cell_type": "code",
   "execution_count": null,
   "metadata": {},
   "outputs": [],
   "source": [
    "import datetime\n",
    "\n",
    "# name the deployment\n",
    "deployment_metadata['highLevelDetails']['name'] = \"sklearn test deployment\"\n",
    "\n",
    "# set end date to tomorrow\n",
    "end_date = str(datetime.date.today() + datetime.timedelta(days=1))\n",
    "deployment_metadata['highLevelDetails']['endDate']['date'] = end_date\n",
    "\n",
    "# set model ID to our new model's uuid\n",
    "deployment_metadata['highLevelDetails']['modelID'] = model_uuid\n",
    "\n",
    "# set owner to current user id\n",
    "deployment_metadata['contacts']['owner'][0]['id'] = bailo.get_me().id\n",
    "\n",
    "deployment_metadata\n"
   ]
  },
  {
   "cell_type": "code",
   "execution_count": null,
   "metadata": {},
   "outputs": [],
   "source": [
    "deployment_request = bailo.request_deployment(deployment_metadata)"
   ]
  },
  {
   "attachments": {},
   "cell_type": "markdown",
   "metadata": {},
   "source": [
    "With an **approved** deployment you can request to download the model files. \n",
    "\n",
    "To carry out this step you will need your deployment request to be approved. This is not currently possible via the Bailo Python module.\n",
    "\n",
    "By default the download_model_files function will download the model binary, but you can also download the model code files."
   ]
  },
  {
   "cell_type": "code",
   "execution_count": null,
   "metadata": {},
   "outputs": [],
   "source": [
    "deployment_uuid=deployment_request['uuid']\n",
    "model_version = latest_model.latestVersion.metadata.highLevelDetails.modelCardVersion\n",
    "\n",
    "bailo.download_model_files(deployment_uuid=deployment_uuid, model_version=model_version, output_dir=f\"{output_path}/downloaded_binary\")"
   ]
  },
  {
   "attachments": {},
   "cell_type": "markdown",
   "metadata": {},
   "source": [
    "Now we can unzip the model files, load in the model and run some predictions"
   ]
  },
  {
   "cell_type": "code",
   "execution_count": null,
   "metadata": {},
   "outputs": [],
   "source": [
    "loaded_model = bailo.load_model(f\"{output_path}/downloaded_binary/sklearn_example/new_binary/model.pkl\", model_flavour=\"sklearn\")"
   ]
  },
  {
   "cell_type": "code",
   "execution_count": null,
   "metadata": {},
   "outputs": [],
   "source": [
    "loaded_model.predict(iris.data)"
   ]
  }
 ],
 "metadata": {
  "kernelspec": {
   "display_name": "Python 3",
   "language": "python",
   "name": "python3"
  },
  "language_info": {
   "codemirror_mode": {
    "name": "ipython",
    "version": 3
   },
   "file_extension": ".py",
   "mimetype": "text/x-python",
   "name": "python",
   "nbconvert_exporter": "python",
   "pygments_lexer": "ipython3",
   "version": "3.7.16"
  },
  "orig_nbformat": 4,
  "vscode": {
   "interpreter": {
    "hash": "31f2aee4e71d21fbe5cf8b01ff0e069b9275f58929596ceb00d14d90e3e16cd6"
   }
  }
 },
 "nbformat": 4,
 "nbformat_minor": 2
}
