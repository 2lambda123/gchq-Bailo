{
 "cells": [
  {
   "attachments": {},
   "cell_type": "markdown",
   "metadata": {},
   "source": [
    "## Experiment Management"
   ]
  },
  {
   "attachments": {},
   "cell_type": "markdown",
   "metadata": {},
   "source": [
    "In addition to the core concepts of **models** and **releases**, it may also be beneficial to manage model experimentation as part of your workflow. Whilst the UI and backend don't currently support experiments as a concept, you may manage these locally using the python client and publish the best experiments as releases. \n",
    "\n",
    "Benefits of experiment tracking with Bailo:\n",
    "* Log and compare multiple experiment runs to select the best model for publishing to the marketplace.\n",
    "    * Include artifacts (files or images) and references to datasets.\n",
    "* Integrate with more purpose built tracking tools such as **MLFlow Tracking** to easily convert existing experiments.\n",
    "* Automatically write experiment run information to a model card.\n",
    "\n",
    "⚠ *Bailo as a service is not designed to log every experiment you do, and instead should be used for models which are ready to share or deploy.*\n",
    "\n",
    "\n",
    "Read more about how to manage experiments on the python docs here."
   ]
  },
  {
   "attachments": {},
   "cell_type": "markdown",
   "metadata": {},
   "source": [
    "## Accessing a model"
   ]
  },
  {
   "attachments": {},
   "cell_type": "markdown",
   "metadata": {},
   "source": [
    "In order to access model artifacts (e.g. images and files), the user must submit an **access request**. Access requests are used to control access to these resources, and can be approved or have changes requested by an MSRO (or another reviewer). These access requests apply to specific models, but upon approval access will be granted to all releases belonging to said model. Below is a walkthrough of how to submit an access request using the UI.\n",
    "\n",
    "1. First, ensure that you have grounds to access to a model *before* submitting an access request as you will need a justification.\n",
    "2. On the model page for your selected model, navigate to the **access requests** page.\n",
    "3. On this page, select the **request access** button. You will be prompted to select a schema, which you should select based on your organisations rules.\n",
    "4. Work through and fill out all required fields, then press **submit**.\n",
    "5. The MSRO will then either accept, or request changes based on the information provided.\n",
    "\n",
    "⚠ **If you're an MSRO:** Please check out the approvals section to learn how you can manage reviews.\n",
    "\n"
   ]
  }
 ],
 "metadata": {
  "kernelspec": {
   "display_name": "Python 3",
   "language": "python",
   "name": "python3"
  },
  "language_info": {
   "name": "python",
   "version": "3.10.12"
  },
  "orig_nbformat": 4
 },
 "nbformat": 4,
 "nbformat_minor": 2
}
