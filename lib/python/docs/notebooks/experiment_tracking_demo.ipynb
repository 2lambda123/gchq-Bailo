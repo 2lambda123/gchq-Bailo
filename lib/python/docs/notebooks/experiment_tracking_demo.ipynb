{
 "cells": [
  {
   "attachments": {},
   "cell_type": "markdown",
   "metadata": {},
   "source": [
    "# Experiment Tracking with Bailo & MLFlow"
   ]
  },
  {
   "attachments": {},
   "cell_type": "markdown",
   "metadata": {},
   "source": [
    "In addition to core concepts covered in previous notebooks, Bailo also offers integrations that might be useful within the wider machine learning lifecycle. This example notebook will run through **experiment tracking** in particular, integrating with **MLFlow Tracking**. The following concepts will be covered:\n",
    "\n",
    "* Creating a new experiment using a Bailo model.\n",
    "* Conducting experiment runs and logging parameters/metrics.\n",
    "* Importing existing experiments from **MLFlow Tracking**.\n",
    "* Publishing results to the Bailo service.\n",
    "\n",
    "Prerequisites:\n",
    "\n",
    "* Completion of the basic notebooks, in particular **models_and_releases_demo_pytorch.ipynb**.\n",
    "* Python 3.8.1 or higher (including a notebook environment for this demo).\n",
    "* A local or remote Bailo service (see https://github.com/gchq/Bailo).\n",
    "* Dependencies for MLFlow.\n",
    "* A local or remote MLFlow Tracking server, if following the MLFlow steps.\n"
   ]
  },
  {
   "attachments": {},
   "cell_type": "markdown",
   "metadata": {},
   "source": [
    "## Introduction\n",
    "\n",
    "### Connecting with Bailo\n",
    "\n",
    "In order to create an `Experiment()` object, you'll first need to have a Bailo `Model()` object, and thus a defined `Client()` too. We learned how to do this in a previous notebook, but this time we'll create a new model with a custom schema which supports model metrics. *More on that later...*"
   ]
  },
  {
   "cell_type": "code",
   "execution_count": 1,
   "metadata": {},
   "outputs": [
    {
     "name": "stdout",
     "output_type": "stream",
     "text": [
      "Defaulting to user installation because normal site-packages is not writeable\n",
      "Requirement already satisfied: mlflow in /home/ubuntu/.local/lib/python3.10/site-packages (2.15.1)\n",
      "Requirement already satisfied: bailo in /home/ubuntu/.local/lib/python3.10/site-packages (2.5.0)\n",
      "Requirement already satisfied: sqlalchemy<3,>=1.4.0 in /home/ubuntu/.local/lib/python3.10/site-packages (from mlflow) (2.0.32)\n",
      "Requirement already satisfied: markdown<4,>=3.3 in /home/ubuntu/.local/lib/python3.10/site-packages (from mlflow) (3.6)\n",
      "Requirement already satisfied: Flask<4 in /home/ubuntu/.local/lib/python3.10/site-packages (from mlflow) (3.0.3)\n",
      "Requirement already satisfied: graphene<4 in /home/ubuntu/.local/lib/python3.10/site-packages (from mlflow) (3.3)\n",
      "Requirement already satisfied: pandas<3 in /home/ubuntu/.local/lib/python3.10/site-packages (from mlflow) (2.2.2)\n",
      "Requirement already satisfied: pyarrow<16,>=4.0.0 in /home/ubuntu/.local/lib/python3.10/site-packages (from mlflow) (15.0.2)\n",
      "Requirement already satisfied: mlflow-skinny==2.15.1 in /home/ubuntu/.local/lib/python3.10/site-packages (from mlflow) (2.15.1)\n",
      "Requirement already satisfied: Jinja2<4,>=2.11 in /home/ubuntu/.local/lib/python3.10/site-packages (from mlflow) (3.1.4)\n",
      "Requirement already satisfied: docker<8,>=4.0.0 in /home/ubuntu/.local/lib/python3.10/site-packages (from mlflow) (7.1.0)\n",
      "Requirement already satisfied: matplotlib<4 in /home/ubuntu/.local/lib/python3.10/site-packages (from mlflow) (3.9.2)\n",
      "Requirement already satisfied: scipy<2 in /home/ubuntu/.local/lib/python3.10/site-packages (from mlflow) (1.14.0)\n",
      "Requirement already satisfied: numpy<2 in /home/ubuntu/.local/lib/python3.10/site-packages (from mlflow) (1.26.4)\n",
      "Requirement already satisfied: gunicorn<23 in /home/ubuntu/.local/lib/python3.10/site-packages (from mlflow) (22.0.0)\n",
      "Requirement already satisfied: scikit-learn<2 in /home/ubuntu/.local/lib/python3.10/site-packages (from mlflow) (1.5.1)\n",
      "Requirement already satisfied: alembic!=1.10.0,<2 in /home/ubuntu/.local/lib/python3.10/site-packages (from mlflow) (1.13.2)\n",
      "Requirement already satisfied: querystring-parser<2 in /home/ubuntu/.local/lib/python3.10/site-packages (from mlflow) (1.2.4)\n",
      "Requirement already satisfied: protobuf<6,>=3.12.0 in /home/ubuntu/.local/lib/python3.10/site-packages (from mlflow-skinny==2.15.1->mlflow) (5.27.3)\n",
      "Requirement already satisfied: cloudpickle<4 in /home/ubuntu/.local/lib/python3.10/site-packages (from mlflow-skinny==2.15.1->mlflow) (3.0.0)\n",
      "Requirement already satisfied: pyyaml<7,>=5.1 in /usr/lib/python3/dist-packages (from mlflow-skinny==2.15.1->mlflow) (5.4.1)\n",
      "Requirement already satisfied: entrypoints<1 in /home/ubuntu/.local/lib/python3.10/site-packages (from mlflow-skinny==2.15.1->mlflow) (0.4)\n",
      "Requirement already satisfied: databricks-sdk<1,>=0.20.0 in /home/ubuntu/.local/lib/python3.10/site-packages (from mlflow-skinny==2.15.1->mlflow) (0.30.0)\n",
      "Requirement already satisfied: opentelemetry-api<3,>=1.9.0 in /home/ubuntu/.local/lib/python3.10/site-packages (from mlflow-skinny==2.15.1->mlflow) (1.26.0)\n",
      "Requirement already satisfied: opentelemetry-sdk<3,>=1.9.0 in /home/ubuntu/.local/lib/python3.10/site-packages (from mlflow-skinny==2.15.1->mlflow) (1.26.0)\n",
      "Requirement already satisfied: pytz<2025 in /usr/lib/python3/dist-packages (from mlflow-skinny==2.15.1->mlflow) (2022.1)\n",
      "Requirement already satisfied: importlib-metadata!=4.7.0,<8,>=3.7.0 in /home/ubuntu/.local/lib/python3.10/site-packages (from mlflow-skinny==2.15.1->mlflow) (7.2.1)\n",
      "Requirement already satisfied: cachetools<6,>=5.0.0 in /home/ubuntu/.local/lib/python3.10/site-packages (from mlflow-skinny==2.15.1->mlflow) (5.4.0)\n",
      "Requirement already satisfied: gitpython<4,>=3.1.9 in /home/ubuntu/.local/lib/python3.10/site-packages (from mlflow-skinny==2.15.1->mlflow) (3.1.43)\n",
      "Requirement already satisfied: sqlparse<1,>=0.4.0 in /home/ubuntu/.local/lib/python3.10/site-packages (from mlflow-skinny==2.15.1->mlflow) (0.5.1)\n",
      "Requirement already satisfied: packaging<25 in /home/ubuntu/.local/lib/python3.10/site-packages (from mlflow-skinny==2.15.1->mlflow) (24.1)\n",
      "Requirement already satisfied: requests<3,>=2.17.3 in /home/ubuntu/.local/lib/python3.10/site-packages (from mlflow-skinny==2.15.1->mlflow) (2.32.3)\n",
      "Requirement already satisfied: click<9,>=7.0 in /home/ubuntu/.local/lib/python3.10/site-packages (from mlflow-skinny==2.15.1->mlflow) (8.1.7)\n",
      "Requirement already satisfied: semantic-version==2.10.0 in /home/ubuntu/.local/lib/python3.10/site-packages (from bailo) (2.10.0)\n",
      "Requirement already satisfied: tqdm>=4.66.2 in /home/ubuntu/.local/lib/python3.10/site-packages (from bailo) (4.66.5)\n",
      "Requirement already satisfied: Mako in /usr/lib/python3/dist-packages (from alembic!=1.10.0,<2->mlflow) (1.1.3)\n",
      "Requirement already satisfied: typing-extensions>=4 in /home/ubuntu/.local/lib/python3.10/site-packages (from alembic!=1.10.0,<2->mlflow) (4.12.2)\n",
      "Requirement already satisfied: urllib3>=1.26.0 in /usr/lib/python3/dist-packages (from docker<8,>=4.0.0->mlflow) (1.26.5)\n",
      "Requirement already satisfied: blinker>=1.6.2 in /home/ubuntu/.local/lib/python3.10/site-packages (from Flask<4->mlflow) (1.8.2)\n",
      "Requirement already satisfied: Werkzeug>=3.0.0 in /home/ubuntu/.local/lib/python3.10/site-packages (from Flask<4->mlflow) (3.0.3)\n",
      "Requirement already satisfied: itsdangerous>=2.1.2 in /home/ubuntu/.local/lib/python3.10/site-packages (from Flask<4->mlflow) (2.2.0)\n",
      "Requirement already satisfied: graphql-core<3.3,>=3.1 in /home/ubuntu/.local/lib/python3.10/site-packages (from graphene<4->mlflow) (3.2.3)\n",
      "Requirement already satisfied: graphql-relay<3.3,>=3.1 in /home/ubuntu/.local/lib/python3.10/site-packages (from graphene<4->mlflow) (3.2.0)\n",
      "Requirement already satisfied: aniso8601<10,>=8 in /home/ubuntu/.local/lib/python3.10/site-packages (from graphene<4->mlflow) (9.0.1)\n",
      "Requirement already satisfied: MarkupSafe>=2.0 in /home/ubuntu/.local/lib/python3.10/site-packages (from Jinja2<4,>=2.11->mlflow) (2.1.5)\n",
      "Requirement already satisfied: kiwisolver>=1.3.1 in /home/ubuntu/.local/lib/python3.10/site-packages (from matplotlib<4->mlflow) (1.4.5)\n",
      "Requirement already satisfied: pyparsing>=2.3.1 in /usr/lib/python3/dist-packages (from matplotlib<4->mlflow) (2.4.7)\n",
      "Requirement already satisfied: python-dateutil>=2.7 in /home/ubuntu/.local/lib/python3.10/site-packages (from matplotlib<4->mlflow) (2.9.0.post0)\n",
      "Requirement already satisfied: contourpy>=1.0.1 in /home/ubuntu/.local/lib/python3.10/site-packages (from matplotlib<4->mlflow) (1.2.1)\n",
      "Requirement already satisfied: fonttools>=4.22.0 in /home/ubuntu/.local/lib/python3.10/site-packages (from matplotlib<4->mlflow) (4.53.1)\n",
      "Requirement already satisfied: cycler>=0.10 in /home/ubuntu/.local/lib/python3.10/site-packages (from matplotlib<4->mlflow) (0.12.1)\n",
      "Requirement already satisfied: pillow>=8 in /usr/lib/python3/dist-packages (from matplotlib<4->mlflow) (9.0.1)\n",
      "Requirement already satisfied: tzdata>=2022.7 in /home/ubuntu/.local/lib/python3.10/site-packages (from pandas<3->mlflow) (2024.1)\n",
      "Requirement already satisfied: six in /usr/lib/python3/dist-packages (from querystring-parser<2->mlflow) (1.16.0)\n",
      "Requirement already satisfied: charset-normalizer<4,>=2 in /home/ubuntu/.local/lib/python3.10/site-packages (from requests<3,>=2.17.3->mlflow-skinny==2.15.1->mlflow) (3.3.2)\n",
      "Requirement already satisfied: certifi>=2017.4.17 in /usr/lib/python3/dist-packages (from requests<3,>=2.17.3->mlflow-skinny==2.15.1->mlflow) (2020.6.20)\n",
      "Requirement already satisfied: idna<4,>=2.5 in /usr/lib/python3/dist-packages (from requests<3,>=2.17.3->mlflow-skinny==2.15.1->mlflow) (3.3)\n",
      "Requirement already satisfied: joblib>=1.2.0 in /home/ubuntu/.local/lib/python3.10/site-packages (from scikit-learn<2->mlflow) (1.4.2)\n",
      "Requirement already satisfied: threadpoolctl>=3.1.0 in /home/ubuntu/.local/lib/python3.10/site-packages (from scikit-learn<2->mlflow) (3.5.0)\n",
      "Requirement already satisfied: greenlet!=0.4.17 in /home/ubuntu/.local/lib/python3.10/site-packages (from sqlalchemy<3,>=1.4.0->mlflow) (3.0.3)\n",
      "Requirement already satisfied: google-auth~=2.0 in /home/ubuntu/.local/lib/python3.10/site-packages (from databricks-sdk<1,>=0.20.0->mlflow-skinny==2.15.1->mlflow) (2.33.0)\n",
      "Requirement already satisfied: gitdb<5,>=4.0.1 in /home/ubuntu/.local/lib/python3.10/site-packages (from gitpython<4,>=3.1.9->mlflow-skinny==2.15.1->mlflow) (4.0.11)\n",
      "Requirement already satisfied: zipp>=0.5 in /usr/lib/python3/dist-packages (from importlib-metadata!=4.7.0,<8,>=3.7.0->mlflow-skinny==2.15.1->mlflow) (1.0.0)\n",
      "Requirement already satisfied: deprecated>=1.2.6 in /home/ubuntu/.local/lib/python3.10/site-packages (from opentelemetry-api<3,>=1.9.0->mlflow-skinny==2.15.1->mlflow) (1.2.14)\n",
      "Requirement already satisfied: opentelemetry-semantic-conventions==0.47b0 in /home/ubuntu/.local/lib/python3.10/site-packages (from opentelemetry-sdk<3,>=1.9.0->mlflow-skinny==2.15.1->mlflow) (0.47b0)\n",
      "Requirement already satisfied: wrapt<2,>=1.10 in /home/ubuntu/.local/lib/python3.10/site-packages (from deprecated>=1.2.6->opentelemetry-api<3,>=1.9.0->mlflow-skinny==2.15.1->mlflow) (1.16.0)\n",
      "Requirement already satisfied: smmap<6,>=3.0.1 in /home/ubuntu/.local/lib/python3.10/site-packages (from gitdb<5,>=4.0.1->gitpython<4,>=3.1.9->mlflow-skinny==2.15.1->mlflow) (5.0.1)\n",
      "Requirement already satisfied: rsa<5,>=3.1.4 in /home/ubuntu/.local/lib/python3.10/site-packages (from google-auth~=2.0->databricks-sdk<1,>=0.20.0->mlflow-skinny==2.15.1->mlflow) (4.9)\n",
      "Requirement already satisfied: pyasn1-modules>=0.2.1 in /usr/lib/python3/dist-packages (from google-auth~=2.0->databricks-sdk<1,>=0.20.0->mlflow-skinny==2.15.1->mlflow) (0.2.1)\n",
      "Requirement already satisfied: pyasn1>=0.1.3 in /usr/lib/python3/dist-packages (from rsa<5,>=3.1.4->google-auth~=2.0->databricks-sdk<1,>=0.20.0->mlflow-skinny==2.15.1->mlflow) (0.4.8)\n"
     ]
    }
   ],
   "source": [
    "# Install dependencies...\n",
    "! pip install mlflow bailo"
   ]
  },
  {
   "cell_type": "code",
   "execution_count": 1,
   "metadata": {},
   "outputs": [],
   "source": [
    "# Necessary import statements\n",
    "\n",
    "from bailo import Model, Client, Experiment, Schema, SchemaKind\n",
    "import mlflow\n",
    "import random\n",
    "\n",
    "# Instantiating the Bailo client\n",
    "\n",
    "client = Client(\"http://127.0.0.1:8080\") # <- INSERT BAILO URL (if not hosting locally)\n",
    "\n",
    "# Creating a demo model\n",
    "\n",
    "model = Model.create(client=client, name=\"YOLOv5\", description=\"YOLOv5 model for object detection.\", team_id=\"uncategorised\")"
   ]
  },
  {
   "attachments": {},
   "cell_type": "markdown",
   "metadata": {},
   "source": [
    "### Setting up MLFlow Tracking\n",
    "\n",
    "In order to complete the integration element of this tutorial, we'll need to set up a local instance of MLFlow Tracking, and create a sample experiment run. *This will not contain any actual model training and is only to demonstrate the functionality of Bailo.*\n",
    "\n",
    "Run `mlflow ui` on the command line. Typically this will run on **localhost:5000** and the UI can be accessed on a browser"
   ]
  },
  {
   "attachments": {},
   "cell_type": "markdown",
   "metadata": {},
   "source": [
    "### Preparing a custom schema for tracking\n",
    "\n",
    "The Bailo UI is designed to display metrics in a particular way, therefore you will need to use a schema that supports this. *This is necessary to publish results*."
   ]
  },
  {
   "cell_type": "code",
   "execution_count": 2,
   "metadata": {},
   "outputs": [],
   "source": [
    "# Defines the schema in an external script as it is quite large!\n",
    "%run -i set_schema.py\n",
    "\n",
    "# Assigns a random schema ID\n",
    "schema_id = random.randint(1, 1000000)\n",
    "\n",
    "# Creates the schema on Bailo\n",
    "schema = Schema.create(client=client, schema_id=str(schema_id), name=\"Experiment Tracking\", description=\"Demo tracking schema\", kind=SchemaKind.MODEL, json_schema=json_schema)\n",
    "\n",
    "# Model cards need to be instantiated with their mandatory fields before metrics can be published.\n",
    "model.card_from_schema(schema_id=str(schema_id))\n",
    "new_card = {\n",
    "  'overview': {\n",
    "    'tags': [],\n",
    "    'modelSummary': 'YOLOv5 model for object detection.',\n",
    "  }\n",
    "}\n",
    "model.update_model_card(model_card=new_card)"
   ]
  },
  {
   "attachments": {},
   "cell_type": "markdown",
   "metadata": {},
   "source": [
    "## Creating a new experiment\n",
    "\n",
    "Experiments with the Bailo client are created using the `Model.create_experiment()` method."
   ]
  },
  {
   "cell_type": "code",
   "execution_count": 3,
   "metadata": {},
   "outputs": [],
   "source": [
    "experiment = model.create_experiment()"
   ]
  },
  {
   "attachments": {},
   "cell_type": "markdown",
   "metadata": {},
   "source": [
    "## Conducting experiment runs"
   ]
  },
  {
   "attachments": {},
   "cell_type": "markdown",
   "metadata": {},
   "source": [
    "### Running an experiment with the Bailo python client\n",
    "\n",
    "You can run experiments directly using the Bailo python client as follows.\n",
    "\n",
    "**NOTE**: This will only work for sequential experiment runs, so if you're running experiments in parallel then it would be better to use **MLFlow Tracking**. We'll learn how to import completed experiments from MLFlow in the next section."
   ]
  },
  {
   "cell_type": "code",
   "execution_count": 4,
   "metadata": {},
   "outputs": [],
   "source": [
    "# Arbitrary params\n",
    "params = {\n",
    "    \"lr\": 0.01,\n",
    "    \"anchor_t\": 4.0,\n",
    "    \"scale\": 0.5,\n",
    "}\n",
    "\n",
    "# Arbitrary metrics\n",
    "metrics = {\n",
    "    \"accuracy\": 0.98,\n",
    "}\n",
    "\n",
    "for x in range(5):\n",
    "    experiment.start_run()\n",
    "    experiment.log_params(params)\n",
    "    experiment.log_metrics(metrics)\n",
    "    experiment.log_artifacts([\"weights.txt\"])"
   ]
  },
  {
   "cell_type": "code",
   "execution_count": 23,
   "metadata": {},
   "outputs": [
    {
     "ename": "NameError",
     "evalue": "Run 2424b07e34fc48f19771b63528ff452c does not exist.",
     "output_type": "error",
     "traceback": [
      "\u001b[0;31m---------------------------------------------------------------------------\u001b[0m",
      "\u001b[0;31mNameError\u001b[0m                                 Traceback (most recent call last)",
      "Cell \u001b[0;32mIn[23], line 1\u001b[0m\n\u001b[0;32m----> 1\u001b[0m \u001b[43mexperiment\u001b[49m\u001b[38;5;241;43m.\u001b[39;49m\u001b[43mpublish\u001b[49m\u001b[43m(\u001b[49m\u001b[43mmc_loc\u001b[49m\u001b[38;5;241;43m=\u001b[39;49m\u001b[38;5;124;43m\"\u001b[39;49m\u001b[38;5;124;43mperformance.performanceMetrics\u001b[39;49m\u001b[38;5;124;43m\"\u001b[39;49m\u001b[43m,\u001b[49m\u001b[43m \u001b[49m\u001b[43mrun_id\u001b[49m\u001b[38;5;241;43m=\u001b[39;49m\u001b[38;5;124;43m\"\u001b[39;49m\u001b[38;5;124;43m2424b07e34fc48f19771b63528ff452c\u001b[39;49m\u001b[38;5;124;43m\"\u001b[39;49m\u001b[43m)\u001b[49m\n",
      "File \u001b[0;32m~/git/Bailo/lib/python/src/bailo/helper/model.py:547\u001b[0m, in \u001b[0;36mExperiment.publish\u001b[0;34m(self, mc_loc, semver, notes, run_id, select_by)\u001b[0m\n\u001b[1;32m    545\u001b[0m             \u001b[38;5;28;01mbreak\u001b[39;00m\n\u001b[1;32m    546\u001b[0m     \u001b[38;5;28;01melse\u001b[39;00m:\n\u001b[0;32m--> 547\u001b[0m         \u001b[38;5;28;01mraise\u001b[39;00m \u001b[38;5;167;01mNameError\u001b[39;00m(\u001b[38;5;124mf\u001b[39m\u001b[38;5;124m\"\u001b[39m\u001b[38;5;124mRun \u001b[39m\u001b[38;5;132;01m{\u001b[39;00mrun_id\u001b[38;5;132;01m}\u001b[39;00m\u001b[38;5;124m does not exist.\u001b[39m\u001b[38;5;124m\"\u001b[39m)\n\u001b[1;32m    549\u001b[0m values \u001b[38;5;241m=\u001b[39m []\n\u001b[1;32m    551\u001b[0m \u001b[38;5;28;01mfor\u001b[39;00m metric \u001b[38;5;129;01min\u001b[39;00m sel_run[\u001b[38;5;124m\"\u001b[39m\u001b[38;5;124mmetrics\u001b[39m\u001b[38;5;124m\"\u001b[39m]:\n",
      "\u001b[0;31mNameError\u001b[0m: Run 2424b07e34fc48f19771b63528ff452c does not exist."
     ]
    }
   ],
   "source": [
    "#experiment.publish(mc_loc=\"performance.performanceMetrics\", run_id=\"2424b07e34fc48f19771b63528ff452c\")"
   ]
  },
  {
   "attachments": {},
   "cell_type": "markdown",
   "metadata": {},
   "source": [
    "### Creating a dummy MLFlow experiment run\n",
    "\n",
    "This section conducts an arbitrary experiment run and logs the params/metrics to your local MLFlow server. *We need this for the next section*."
   ]
  },
  {
   "cell_type": "code",
   "execution_count": 5,
   "metadata": {},
   "outputs": [
    {
     "name": "stderr",
     "output_type": "stream",
     "text": [
      "2024/08/15 11:55:00 INFO mlflow.tracking.fluent: Experiment with name 'hgfc' does not exist. Creating a new experiment.\n"
     ]
    },
    {
     "name": "stderr",
     "output_type": "stream",
     "text": [
      "2024/08/15 11:55:00 INFO mlflow.tracking._tracking_service.client: 🏃 View run brawny-bee-145 at: http://127.0.0.1:5000/#/experiments/489344015867059297/runs/94f659e1e2314207af956d9a15421ff2.\n",
      "2024/08/15 11:55:00 INFO mlflow.tracking._tracking_service.client: 🧪 View experiment at: http://127.0.0.1:5000/#/experiments/489344015867059297.\n"
     ]
    }
   ],
   "source": [
    "# Setting local tracking URI and experiment name\n",
    "mlflow.set_tracking_uri(uri=\"http://127.0.0.1:5000\")\n",
    "mlflow.set_experiment(\"hgfc\")\n",
    "\n",
    "# Logging the same metrics to the local MLFlow server\n",
    "with mlflow.start_run():\n",
    "    mlflow.log_params(params)\n",
    "    mlflow.log_metric(\"accuracy\", 0.86)\n",
    "    mlflow.log_artifact(\"weights.txt\")\n",
    "    mlflow.set_tag(\"Training Info\", \"YOLOv5 Demo Model\")"
   ]
  },
  {
   "attachments": {},
   "cell_type": "markdown",
   "metadata": {},
   "source": [
    "## Importing existing experiments from MLFlow into Bailo\n",
    "\n",
    "As previously mentioned, you can import existing experiments into the `Experiment()` class by using the `Experiment.from_mlflow()` method. You must provide the **MLFlow tracking URI** and the experiment ID."
   ]
  },
  {
   "cell_type": "code",
   "execution_count": 6,
   "metadata": {},
   "outputs": [
    {
     "name": "stderr",
     "output_type": "stream",
     "text": [
      "/home/ubuntu/.local/lib/python3.10/site-packages/tqdm/auto.py:21: TqdmWarning: IProgress not found. Please update jupyter and ipywidgets. See https://ipywidgets.readthedocs.io/en/stable/user_install.html\n",
      "  from .autonotebook import tqdm as notebook_tqdm\n",
      "Downloading artifacts: 100%|██████████| 1/1 [00:00<00:00, 148.68it/s]\n"
     ]
    }
   ],
   "source": [
    "experiment_mlflow = model.create_experiment()\n",
    "experiment_mlflow.from_mlflow(\n",
    "    tracking_uri=\"http://127.0.0.1:5000\", experiment_id=\"489344015867059297\"\n",
    ")  # <- INSERT MLFLOW EXPERIMENT ID. CAN BE FOUND ON THE UI."
   ]
  },
  {
   "attachments": {},
   "cell_type": "markdown",
   "metadata": {},
   "source": [
    "## Publishing results to Bailo\n",
    "\n",
    "Experiment runs can be published to the model card using the `Experiment.publish()` method, **one at a time**. This is because the intended use is only to publish the most successful run.\n",
    "Therefore, you must specify the **run_id** to publish, or specify an order so the client can select the best result. As well as this, you must specify the location of the metrics in your schema (in this case *performance.performanceMetrics* as per the schema we defined earlier).\n",
    "\n",
    "Examples for both scenarios can be seen below."
   ]
  },
  {
   "attachments": {},
   "cell_type": "markdown",
   "metadata": {},
   "source": [
    "### Publishing a specific run\n",
    "\n",
    "To publish a specific run, you must pass the `run_id` into the method. In this example, use one of the IDs we created in the previous steps."
   ]
  },
  {
   "cell_type": "code",
   "execution_count": 7,
   "metadata": {},
   "outputs": [
    {
     "name": "stderr",
     "output_type": "stream",
     "text": [
      "100%|\u001b[34m██████████\u001b[0m| 238/238 [00:00<00:00, 1.28kB/s, uploading mlflow_94f659e1e2314207af956d9a15421ff2.zip]\n"
     ]
    }
   ],
   "source": [
    "experiment_mlflow.publish(mc_loc=\"performance.performanceMetrics\", run_id=\"94f659e1e2314207af956d9a15421ff2\")"
   ]
  },
  {
   "attachments": {},
   "cell_type": "markdown",
   "metadata": {},
   "source": [
    "### Publishing the best run\n",
    "\n",
    "To publish the best run, you must define what the best is for your use case. This can be done using the `select_by` parameter with a string e.g. `accuracy MIN|MAX`. Depending on the requirements, `accuracy` could be any metric you have defined in your experiment.\n",
    "\n",
    "In the below example, we will use `accuracy MAX` to publish the experiment run with the highest accuracy."
   ]
  },
  {
   "cell_type": "code",
   "execution_count": 11,
   "metadata": {},
   "outputs": [
    {
     "ename": "BailoException",
     "evalue": "This experiment has no runs to publish.",
     "output_type": "error",
     "traceback": [
      "\u001b[0;31m---------------------------------------------------------------------------\u001b[0m",
      "\u001b[0;31mBailoException\u001b[0m                            Traceback (most recent call last)",
      "Cell \u001b[0;32mIn[11], line 1\u001b[0m\n\u001b[0;32m----> 1\u001b[0m \u001b[43mexperiment_mlflow\u001b[49m\u001b[38;5;241;43m.\u001b[39;49m\u001b[43mpublish\u001b[49m\u001b[43m(\u001b[49m\u001b[43mmc_loc\u001b[49m\u001b[38;5;241;43m=\u001b[39;49m\u001b[38;5;124;43m\"\u001b[39;49m\u001b[38;5;124;43mperformance.performanceMetrics\u001b[39;49m\u001b[38;5;124;43m\"\u001b[39;49m\u001b[43m,\u001b[49m\u001b[43m \u001b[49m\u001b[43mselect_by\u001b[49m\u001b[38;5;241;43m=\u001b[39;49m\u001b[38;5;124;43m\"\u001b[39;49m\u001b[38;5;124;43maccuracy MAX\u001b[39;49m\u001b[38;5;124;43m\"\u001b[39;49m\u001b[43m)\u001b[49m\n",
      "File \u001b[0;32m~/git/Bailo/lib/python/src/bailo/helper/model.py:532\u001b[0m, in \u001b[0;36mExperiment.publish\u001b[0;34m(self, mc_loc, semver, notes, run_id, select_by)\u001b[0m\n\u001b[1;32m    529\u001b[0m mc \u001b[38;5;241m=\u001b[39m NestedDict(mc)\n\u001b[1;32m    531\u001b[0m \u001b[38;5;28;01mif\u001b[39;00m \u001b[38;5;28mlen\u001b[39m(\u001b[38;5;28mself\u001b[39m\u001b[38;5;241m.\u001b[39mraw) \u001b[38;5;241m==\u001b[39m \u001b[38;5;241m0\u001b[39m:\n\u001b[0;32m--> 532\u001b[0m     \u001b[38;5;28;01mraise\u001b[39;00m BailoException(\u001b[38;5;124mf\u001b[39m\u001b[38;5;124m\"\u001b[39m\u001b[38;5;124mThis experiment has no runs to publish.\u001b[39m\u001b[38;5;124m\"\u001b[39m)\n\u001b[1;32m    533\u001b[0m \u001b[38;5;28;01mif\u001b[39;00m (select_by \u001b[38;5;129;01mis\u001b[39;00m \u001b[38;5;28;01mNone\u001b[39;00m) \u001b[38;5;129;01mand\u001b[39;00m (run_id \u001b[38;5;129;01mis\u001b[39;00m \u001b[38;5;28;01mNone\u001b[39;00m):\n\u001b[1;32m    534\u001b[0m     \u001b[38;5;28;01mraise\u001b[39;00m BailoException(\n\u001b[1;32m    535\u001b[0m         \u001b[38;5;124m\"\u001b[39m\u001b[38;5;124mEither select_by (e.g. \u001b[39m\u001b[38;5;124m'\u001b[39m\u001b[38;5;124maccuracy MIN|MAX\u001b[39m\u001b[38;5;124m'\u001b[39m\u001b[38;5;124m) or run_id is required to publish an experiment run.\u001b[39m\u001b[38;5;124m\"\u001b[39m\n\u001b[1;32m    536\u001b[0m     )\n",
      "\u001b[0;31mBailoException\u001b[0m: This experiment has no runs to publish."
     ]
    }
   ],
   "source": [
    "experiment_mlflow.publish(mc_loc=\"performance.performanceMetrics\", select_by=\"accuracy MAX\")"
   ]
  },
  {
   "attachments": {},
   "cell_type": "markdown",
   "metadata": {},
   "source": [
    "If successful, our metrics should now be under the **Performance** tab of your model card on the UI! Additionally, our artifact will have been published as a new release (*this will have been done twice if you ran both the above steps*)."
   ]
  }
 ],
 "metadata": {
  "kernelspec": {
   "display_name": "Python 3",
   "language": "python",
   "name": "python3"
  },
  "language_info": {
   "codemirror_mode": {
    "name": "ipython",
    "version": 3
   },
   "file_extension": ".py",
   "mimetype": "text/x-python",
   "name": "python",
   "nbconvert_exporter": "python",
   "pygments_lexer": "ipython3",
   "version": "3.10.12"
  },
  "orig_nbformat": 4
 },
 "nbformat": 4,
 "nbformat_minor": 2
}
